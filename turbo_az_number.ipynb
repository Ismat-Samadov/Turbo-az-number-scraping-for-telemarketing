{
 "cells": [
  {
   "cell_type": "code",
   "execution_count": 1,
   "id": "350987d5-a8a2-4d67-80ea-c7cdbac06db5",
   "metadata": {},
   "outputs": [
    {
     "name": "stdout",
     "output_type": "stream",
     "text": [
      "Setup Complete\n"
     ]
    }
   ],
   "source": [
    "####\n",
    "from selenium import webdriver\n",
    "from selenium.webdriver.chrome.options import Options  ## for headless mode\n",
    "from selenium.webdriver.common.by import By\n",
    "from selenium.common.exceptions import NoSuchElementException\n",
    "from selenium.webdriver.support.select import Select\n",
    "from selenium.webdriver.common.keys import Keys\n",
    "from selenium.webdriver.common.action_chains import ActionChains\n",
    "#######\n",
    "import pandas as pd\n",
    "import numpy as np\n",
    "from bs4 import BeautifulSoup\n",
    "import requests\n",
    "import re \n",
    "from matplotlib import pyplot as plt\n",
    "import seaborn as sns\n",
    "import urllib3\n",
    "pd.plotting.register_matplotlib_converters()\n",
    "from warnings import filterwarnings\n",
    "filterwarnings('ignore')\n",
    "# %matplotlib inline\n",
    "import time\n",
    "print(\"Setup Complete\")"
   ]
  },
  {
   "cell_type": "code",
   "execution_count": null,
   "id": "317a818f-6e5f-4888-ab32-042557267d4a",
   "metadata": {},
   "outputs": [],
   "source": []
  },
  {
   "cell_type": "code",
   "execution_count": null,
   "id": "77db1817-e589-4fad-ab96-4b57edd9d8c1",
   "metadata": {},
   "outputs": [],
   "source": []
  },
  {
   "cell_type": "markdown",
   "id": "ca5607eb-21d6-4be3-8d8a-4df24f190ebc",
   "metadata": {},
   "source": [
    "### function"
   ]
  },
  {
   "cell_type": "code",
   "execution_count": 5,
   "id": "a51c83ee-05d0-4f73-9c21-429a84b6ee62",
   "metadata": {},
   "outputs": [],
   "source": [
    "def scraper(url_of_page):\n",
    "    num=[]\n",
    "    df=pd.DataFrame()\n",
    "    http = urllib3.PoolManager()\n",
    "    l = http.request('GET',url_of_page)\n",
    "    soup_1=BeautifulSoup(l.data, 'html.parser')\n",
    "    links_1 = soup_1.findAll('a', class_='phone')\n",
    "\n",
    "    for i in range (len(links_1)):\n",
    "        number=re.sub('<[^>]+>' , ' ', str(links_1)).strip().replace(' (','').replace('[','').replace(']','').replace(') ','').replace('-','').split(',')[0].strip()\n",
    "        num.append({'link':url_of_page,'number':number})\n",
    "    df=pd.DataFrame(num)\n",
    "    df.to_excel('output1.xlsx', engine='xlsxwriter')\n",
    "    return df"
   ]
  },
  {
   "cell_type": "code",
   "execution_count": 6,
   "id": "f6bef00f-1821-4b82-9b2c-5f04889990e6",
   "metadata": {},
   "outputs": [
    {
     "data": {
      "text/html": [
       "<div>\n",
       "<style scoped>\n",
       "    .dataframe tbody tr th:only-of-type {\n",
       "        vertical-align: middle;\n",
       "    }\n",
       "\n",
       "    .dataframe tbody tr th {\n",
       "        vertical-align: top;\n",
       "    }\n",
       "\n",
       "    .dataframe thead th {\n",
       "        text-align: right;\n",
       "    }\n",
       "</style>\n",
       "<table border=\"1\" class=\"dataframe\">\n",
       "  <thead>\n",
       "    <tr style=\"text-align: right;\">\n",
       "      <th></th>\n",
       "    </tr>\n",
       "  </thead>\n",
       "  <tbody>\n",
       "  </tbody>\n",
       "</table>\n",
       "</div>"
      ],
      "text/plain": [
       "Empty DataFrame\n",
       "Columns: []\n",
       "Index: []"
      ]
     },
     "execution_count": 6,
     "metadata": {},
     "output_type": "execute_result"
    }
   ],
   "source": [
    "scraper('https://turbo.az/autos?page=2')"
   ]
  },
  {
   "cell_type": "markdown",
   "id": "58b66249-34f2-4d30-bf82-4994fe560efc",
   "metadata": {},
   "source": [
    "## personal auto"
   ]
  },
  {
   "cell_type": "code",
   "execution_count": 3,
   "id": "e24d0a80-2a1a-449c-bc00-793f29488652",
   "metadata": {
    "tags": []
   },
   "outputs": [
    {
     "name": "stdout",
     "output_type": "stream",
     "text": [
      "CPU times: total: 23.3 s\n",
      "Wall time: 3min 18s\n"
     ]
    },
    {
     "data": {
      "text/html": [
       "<div>\n",
       "<style scoped>\n",
       "    .dataframe tbody tr th:only-of-type {\n",
       "        vertical-align: middle;\n",
       "    }\n",
       "\n",
       "    .dataframe tbody tr th {\n",
       "        vertical-align: top;\n",
       "    }\n",
       "\n",
       "    .dataframe thead th {\n",
       "        text-align: right;\n",
       "    }\n",
       "</style>\n",
       "<table border=\"1\" class=\"dataframe\">\n",
       "  <thead>\n",
       "    <tr style=\"text-align: right;\">\n",
       "      <th></th>\n",
       "      <th>number</th>\n",
       "    </tr>\n",
       "  </thead>\n",
       "  <tbody>\n",
       "    <tr>\n",
       "      <th>0</th>\n",
       "      <td>503573637</td>\n",
       "    </tr>\n",
       "    <tr>\n",
       "      <th>1</th>\n",
       "      <td>554103131</td>\n",
       "    </tr>\n",
       "    <tr>\n",
       "      <th>2</th>\n",
       "      <td>705070003</td>\n",
       "    </tr>\n",
       "    <tr>\n",
       "      <th>3</th>\n",
       "      <td>552110737</td>\n",
       "    </tr>\n",
       "    <tr>\n",
       "      <th>4</th>\n",
       "      <td>552502510</td>\n",
       "    </tr>\n",
       "    <tr>\n",
       "      <th>...</th>\n",
       "      <td>...</td>\n",
       "    </tr>\n",
       "    <tr>\n",
       "      <th>291</th>\n",
       "      <td>502421120</td>\n",
       "    </tr>\n",
       "    <tr>\n",
       "      <th>292</th>\n",
       "      <td>509758369</td>\n",
       "    </tr>\n",
       "    <tr>\n",
       "      <th>293</th>\n",
       "      <td>505249719</td>\n",
       "    </tr>\n",
       "    <tr>\n",
       "      <th>294</th>\n",
       "      <td>553373377</td>\n",
       "    </tr>\n",
       "    <tr>\n",
       "      <th>295</th>\n",
       "      <td>702005933</td>\n",
       "    </tr>\n",
       "  </tbody>\n",
       "</table>\n",
       "<p>296 rows × 1 columns</p>\n",
       "</div>"
      ],
      "text/plain": [
       "        number\n",
       "0    503573637\n",
       "1    554103131\n",
       "2    705070003\n",
       "3    552110737\n",
       "4    552502510\n",
       "..         ...\n",
       "291  502421120\n",
       "292  509758369\n",
       "293  505249719\n",
       "294  553373377\n",
       "295  702005933\n",
       "\n",
       "[296 rows x 1 columns]"
      ]
     },
     "execution_count": 3,
     "metadata": {},
     "output_type": "execute_result"
    }
   ],
   "source": [
    "%%time\n",
    "links_personal_auto=[]\n",
    "num=[]\n",
    "df=pd.DataFrame()\n",
    "for x in range(1,5):\n",
    "    url=f'https://turbo.az/autos?page={x}'\n",
    "    request=requests.get(url).content\n",
    "    soup=BeautifulSoup(request,'html.parser')\n",
    "    cars=soup.find_all('div',class_='products-i')\n",
    "    for i in cars:\n",
    "        links_personal_auto.append('https://turbo.az'+i.a['href'])      \n",
    "    for i in range (len(links_personal_auto)):\n",
    "        http = urllib3.PoolManager()\n",
    "        content = http.request('GET',links_personal_auto[i])\n",
    "        soup_1=BeautifulSoup(content.data, 'html.parser')\n",
    "        links_1 = soup_1.findAll('a', class_='phone')\n",
    "        try:\n",
    "            number=int(re.sub('<[^>]+>' , ' ', str(links_1)).strip().replace(' (','').replace('[','').replace(']','').replace(') ','').replace('-','').split(',')[0].strip())\n",
    "            num.append({'number':number})\n",
    "        except ValueError:\n",
    "            number=0\n",
    "    df=pd.DataFrame(num)        \n",
    "df"
   ]
  },
  {
   "cell_type": "code",
   "execution_count": 4,
   "id": "d7a77042-1fbc-48fa-a892-53ce409ab4bc",
   "metadata": {},
   "outputs": [],
   "source": [
    "df.to_excel('personal_numbers.xlsx', engine='xlsxwriter')"
   ]
  },
  {
   "cell_type": "markdown",
   "id": "acd6b16c-5031-441b-8e92-692aa47ae32b",
   "metadata": {},
   "source": [
    "## salon autos"
   ]
  },
  {
   "cell_type": "code",
   "execution_count": 5,
   "id": "fea76e32-8f33-4ffe-8858-869ce5f94983",
   "metadata": {},
   "outputs": [
    {
     "name": "stdout",
     "output_type": "stream",
     "text": [
      "CPU times: total: 1.47 s\n",
      "Wall time: 13.5 s\n"
     ]
    },
    {
     "data": {
      "text/html": [
       "<div>\n",
       "<style scoped>\n",
       "    .dataframe tbody tr th:only-of-type {\n",
       "        vertical-align: middle;\n",
       "    }\n",
       "\n",
       "    .dataframe tbody tr th {\n",
       "        vertical-align: top;\n",
       "    }\n",
       "\n",
       "    .dataframe thead th {\n",
       "        text-align: right;\n",
       "    }\n",
       "</style>\n",
       "<table border=\"1\" class=\"dataframe\">\n",
       "  <thead>\n",
       "    <tr style=\"text-align: right;\">\n",
       "      <th></th>\n",
       "      <th>number</th>\n",
       "    </tr>\n",
       "  </thead>\n",
       "  <tbody>\n",
       "    <tr>\n",
       "      <th>12</th>\n",
       "      <td>998910021</td>\n",
       "    </tr>\n",
       "    <tr>\n",
       "      <th>13</th>\n",
       "      <td>552152626</td>\n",
       "    </tr>\n",
       "    <tr>\n",
       "      <th>14</th>\n",
       "      <td>773866685</td>\n",
       "    </tr>\n",
       "    <tr>\n",
       "      <th>15</th>\n",
       "      <td>773866685</td>\n",
       "    </tr>\n",
       "    <tr>\n",
       "      <th>16</th>\n",
       "      <td>503383436</td>\n",
       "    </tr>\n",
       "  </tbody>\n",
       "</table>\n",
       "</div>"
      ],
      "text/plain": [
       "       number\n",
       "12  998910021\n",
       "13  552152626\n",
       "14  773866685\n",
       "15  773866685\n",
       "16  503383436"
      ]
     },
     "execution_count": 5,
     "metadata": {},
     "output_type": "execute_result"
    }
   ],
   "source": [
    "%%time\n",
    "links_salon_auto=[]\n",
    "num=[]\n",
    "salon_number=pd.DataFrame()\n",
    "http = urllib3.PoolManager()\n",
    "\n",
    "for x in range(1,5):\n",
    "    url=f'https://turbo.az/autos?page={x}'\n",
    "    request=requests.get(url).content\n",
    "    soup=BeautifulSoup(request,'html.parser')\n",
    "    cars=soup.find_all('div',class_='products-i salon')\n",
    "\n",
    "    for i in cars:\n",
    "        links_salon_auto.append('https://turbo.az'+i.a['href'])\n",
    "        \n",
    "    for i in range (len(links_salon_auto)):\n",
    "        content = http.request('GET',links_salon_auto[i])\n",
    "        soup_1=BeautifulSoup(content.data, 'html.parser')\n",
    "        try:\n",
    "            links_1 = soup_1.findAll('div', class_='shop-contact--phones-i')\n",
    "            number=int(re.sub('<[^>]+>' , ' ', str(links_1)).strip().replace(' (','').replace('[','').replace(']','').replace(') ','').replace('-','').split(',')[0].strip())\n",
    "            num.append({'number':number})\n",
    "        except ValueError:\n",
    "            number=0\n",
    "    salon_number=pd.DataFrame(num)        \n",
    "salon_number.tail(5)   "
   ]
  },
  {
   "cell_type": "code",
   "execution_count": 18,
   "id": "c8990c01-10f2-42c9-9ae9-c1253d1b6064",
   "metadata": {},
   "outputs": [],
   "source": [
    "sal.to_excel('salon_numbers.xlsx', engine='xlsxwriter')"
   ]
  }
 ],
 "metadata": {
  "kernelspec": {
   "display_name": "Python 3 (ipykernel)",
   "language": "python",
   "name": "python3"
  },
  "language_info": {
   "codemirror_mode": {
    "name": "ipython",
    "version": 3
   },
   "file_extension": ".py",
   "mimetype": "text/x-python",
   "name": "python",
   "nbconvert_exporter": "python",
   "pygments_lexer": "ipython3",
   "version": "3.9.7"
  }
 },
 "nbformat": 4,
 "nbformat_minor": 5
}
